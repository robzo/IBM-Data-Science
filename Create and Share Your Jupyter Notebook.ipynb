{
    "cells": [
        {
            "cell_type": "markdown",
            "metadata": {
                "collapsed": true
            },
            "source": "# My Jupyter Notebook on IBM Watson Studio"
        },
        {
            "cell_type": "markdown",
            "metadata": {},
            "source": "**Roberto**  \nBiostatistician"
        },
        {
            "cell_type": "markdown",
            "metadata": {},
            "source": "*I am interested in data science because given the always increasing grouth of data, it will be the discipline of the future* "
        },
        {
            "cell_type": "markdown",
            "metadata": {},
            "source": "### Cell 5 should calculate and display the result of a simple mathematical expression: 1+2"
        },
        {
            "cell_type": "code",
            "execution_count": 1,
            "metadata": {},
            "outputs": [
                {
                    "data": {
                        "text/plain": "3"
                    },
                    "execution_count": 1,
                    "metadata": {},
                    "output_type": "execute_result"
                }
            ],
            "source": "1+2"
        },
        {
            "cell_type": "markdown",
            "metadata": {},
            "source": "numbered list:  \n1. one\n2. two\n3. three  \n\nbulleted list:  \n* one\n* two\n* three\n\nhorizontal rule:\n***"
        }
    ],
    "metadata": {
        "kernelspec": {
            "display_name": "Python 3.7",
            "language": "python",
            "name": "python3"
        },
        "language_info": {
            "codemirror_mode": {
                "name": "ipython",
                "version": 3
            },
            "file_extension": ".py",
            "mimetype": "text/x-python",
            "name": "python",
            "nbconvert_exporter": "python",
            "pygments_lexer": "ipython3",
            "version": "3.7.10"
        }
    },
    "nbformat": 4,
    "nbformat_minor": 1
}